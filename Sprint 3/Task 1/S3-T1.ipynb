{
 "cells": [
  {
   "cell_type": "markdown",
   "metadata": {},
   "source": [
    "itertools.product()\n",
    "\n",
    "This tool computes the cartesian product of input iterables."
   ]
  },
  {
   "cell_type": "code",
   "execution_count": null,
   "metadata": {},
   "outputs": [],
   "source": [
    "from itertools import product\n",
    "A = input().split()\n",
    "A = list(map(int,A))\n",
    "B = input().split()\n",
    "B = list(map(int, B))\n",
    "output = list(product(A,B))\n",
    "for i in output:\n",
    "    print(i, end = \" \");"
   ]
  },
  {
   "cell_type": "markdown",
   "metadata": {},
   "source": [
    "itertools.permutations(iterable[, r])"
   ]
  },
  {
   "cell_type": "code",
   "execution_count": null,
   "metadata": {},
   "outputs": [],
   "source": [
    "from itertools import permutations\n",
    "s,k = input().split()\n",
    "\n",
    "words = list(permutations(s,int(k)))\n",
    "words = sorted(words, reverse=False)\n",
    "for word in words:\n",
    "    print(*word,sep='')"
   ]
  },
  {
   "cell_type": "markdown",
   "metadata": {},
   "source": [
    "itertools.combinations(iterable, r)"
   ]
  },
  {
   "cell_type": "code",
   "execution_count": null,
   "metadata": {},
   "outputs": [],
   "source": [
    "from itertools import combinations\n",
    "\n",
    "io = input().split()\n",
    "S = io[0]\n",
    "k = int(io[1])\n",
    "for i in range(1,k+1):\n",
    "    for j in combinations(sorted(S),i):\n",
    "        print(\"\".join(j))"
   ]
  },
  {
   "cell_type": "markdown",
   "metadata": {},
   "source": [
    "itertools.combinations_with_replacement(iterable, r)"
   ]
  },
  {
   "cell_type": "code",
   "execution_count": null,
   "metadata": {},
   "outputs": [],
   "source": [
    "from itertools import combinations_with_replacement\n",
    "\n",
    "io = input().split();\n",
    "char = sorted(io[0]);\n",
    "N = int(io[1]);\n",
    "\n",
    "for i in combinations_with_replacement(char,N):\n",
    "    print(''.join(i))"
   ]
  },
  {
   "cell_type": "markdown",
   "metadata": {},
   "source": [
    "In this task, we would like for you to appreciate the usefulness of the groupby() function of itertools . To read more about this function, Check this out ."
   ]
  },
  {
   "cell_type": "code",
   "execution_count": null,
   "metadata": {},
   "outputs": [],
   "source": [
    "from itertools import *\n",
    "\n",
    "io = input()\n",
    "for i,j in groupby(map(int,list(io))):\n",
    "    print(tuple([len(list(j)), i]) ,end = \" \")"
   ]
  },
  {
   "cell_type": "markdown",
   "metadata": {},
   "source": [
    "The itertools module standardizes a core set of fast, memory efficient tools that are useful by themselves or in combination. Together, they form an iterator algebra making it possible to construct specialized tools succinctly and efficiently in pure Python."
   ]
  },
  {
   "cell_type": "code",
   "execution_count": null,
   "metadata": {},
   "outputs": [],
   "source": [
    "from itertools import permutations\n",
    "\n",
    "n = int(input())\n",
    "s = input().replace(' ', '')\n",
    "k = int(input())\n",
    "p = [''.join(x) for x in permutations(s, k)]\n",
    "\n",
    "num = 0\n",
    "for x in p:\n",
    "    if 'a' in x:\n",
    "        num += 1\n",
    "\n",
    "print(num/len(p))"
   ]
  },
  {
   "cell_type": "markdown",
   "metadata": {},
   "source": [
    "You are given a function f(x)=x**2 . You are also given K lists. The i th  list consists of N elements.\n"
   ]
  },
  {
   "cell_type": "code",
   "execution_count": null,
   "metadata": {},
   "outputs": [],
   "source": [
    "from itertools import product\n",
    "K,M = map(int,input().split())\n",
    "nums = []\n",
    "for _ in range(K):\n",
    "    row = map(int,input().split()[1:])\n",
    "    nums.append(map(lambda x:x**2%M, row))\n",
    "print(max(map(lambda x: sum(x)%M, product(*nums))))"
   ]
  }
 ],
 "metadata": {
  "language_info": {
   "name": "python"
  },
  "orig_nbformat": 4
 },
 "nbformat": 4,
 "nbformat_minor": 2
}
