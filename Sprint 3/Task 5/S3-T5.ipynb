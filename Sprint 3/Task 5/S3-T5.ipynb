{
 "cells": [
  {
   "cell_type": "markdown",
   "metadata": {},
   "source": [
    "You are given a valid XML document, and you have to print its score. The score is calculated by the sum of the score of each element. For any element, the score is equal to the number of attributes it has.\n",
    "\n"
   ]
  },
  {
   "cell_type": "code",
   "execution_count": null,
   "metadata": {},
   "outputs": [],
   "source": [
    "import sys\n",
    "import xml.etree.ElementTree as etree\n",
    "\n",
    "def get_attr_number(node):\n",
    "    # your code goes here\n",
    "    # XML 1 - Find the Score in Python - Hacker Rank Solution START\n",
    "    count = 0\n",
    "    for tag in node:\n",
    "        count = count + get_attr_number(tag)\n",
    "    return count + len(node.attrib)\n",
    "    # XML 1 - Find the Score in Python - Hacker Rank Solution END\n",
    "\n",
    "if __name__ == '__main__':\n",
    "    sys.stdin.readline()\n",
    "    xml = sys.stdin.read()\n",
    "    tree = etree.ElementTree(etree.fromstring(xml))\n",
    "    root = tree.getroot()\n",
    "    print(get_attr_number(root))"
   ]
  },
  {
   "cell_type": "markdown",
   "metadata": {},
   "source": [
    "You are given a valid XML document, and you have to print the maximum level of nesting in it. Take the depth of the root as 0."
   ]
  },
  {
   "cell_type": "code",
   "execution_count": null,
   "metadata": {},
   "outputs": [],
   "source": [
    "import xml.etree.ElementTree as etree\n",
    "\n",
    "maxdepth = 0\n",
    "def depth(elem, level):\n",
    "    global maxdepth\n",
    "    # your code goes here\n",
    "    # XML2 - Find the Maximum Depth in Python - Hacker Rank Solution START\n",
    "    if (level == maxdepth):\n",
    "        maxdepth += 1\n",
    "    for child in elem:\n",
    "        depth(child, level + 1)\n",
    "    # XML2 - Find the Maximum Depth in Python - Hacker Rank Solution END\n",
    "\n",
    "if __name__ == '__main__':\n",
    "    n = int(input())\n",
    "    xml = \"\"\n",
    "    for i in range(n):\n",
    "        xml =  xml + input() + \"\\n\"\n",
    "    tree = etree.ElementTree(etree.fromstring(xml))\n",
    "    depth(tree.getroot(), -1)\n",
    "    print(maxdepth)"
   ]
  },
  {
   "cell_type": "markdown",
   "metadata": {},
   "source": [
    "For this challenge, you are given two complex numbers, and you have to print the result of their addition, subtraction, multiplication, division and modulus operations."
   ]
  },
  {
   "cell_type": "code",
   "execution_count": null,
   "metadata": {},
   "outputs": [],
   "source": [
    "import math\n",
    "\n",
    "class Complex(object):\n",
    "# Classes Dealing with Complex Numbers in python - Hacker Rank Solution START\n",
    "    def __init__(self, real, imaginary):\n",
    "        self.real = real\n",
    "        self.imaginary = imaginary\n",
    "        \n",
    "    def __add__(self, no):\n",
    "        real = self.real + no.real\n",
    "        imaginary = self.imaginary + no.imaginary\n",
    "        return Complex(real,imaginary)\n",
    "        \n",
    "    def __sub__(self, no):\n",
    "        real = self.real - no.real\n",
    "        imaginary = self.imaginary - no.imaginary\n",
    "        return Complex(real,imaginary)\n",
    "        \n",
    "    def __mul__(self, no):\n",
    "        real = self.real * no.real - self.imaginary * no.imaginary\n",
    "        imaginary = self.real * no.imaginary + self.imaginary * no.real\n",
    "        return Complex(real,imaginary)\n",
    "\n",
    "    def __truediv__(self, no):\n",
    "        x = float(no.real ** 2 + no.imaginary ** 2)\n",
    "        y = self * Complex(no.real, -no.imaginary)\n",
    "        real = y.real / x\n",
    "        imaginary = y.imaginary / x\n",
    "        return Complex(real, imaginary)\n",
    "\n",
    "    def mod(self):\n",
    "        real = math.sqrt(self.real ** 2 + self.imaginary ** 2)\n",
    "        return Complex(real, 0)\n",
    "# Classes Dealing with Complex Numbers in python - Hacker Rank Solution END\n",
    "\n",
    "    def __str__(self):\n",
    "        if self.imaginary == 0:\n",
    "            result = \"%.2f+0.00i\" % (self.real)\n",
    "        elif self.real == 0:\n",
    "            if self.imaginary >= 0:\n",
    "                result = \"0.00+%.2fi\" % (self.imaginary)\n",
    "            else:\n",
    "                result = \"0.00-%.2fi\" % (abs(self.imaginary))\n",
    "        elif self.imaginary > 0:\n",
    "            result = \"%.2f+%.2fi\" % (self.real, self.imaginary)\n",
    "        else:\n",
    "            result = \"%.2f-%.2fi\" % (self.real, abs(self.imaginary))\n",
    "        return result\n",
    "\n",
    "if __name__ == '__main__':\n",
    "    c = map(float, input().split())\n",
    "    d = map(float, input().split())\n",
    "    x = Complex(*c)\n",
    "    y = Complex(*d)\n",
    "    print(*map(str, [x+y, x-y, x*y, x/y, x.mod(), y.mod()]), sep='\\n')\n"
   ]
  }
 ],
 "metadata": {
  "language_info": {
   "name": "python"
  },
  "orig_nbformat": 4
 },
 "nbformat": 4,
 "nbformat_minor": 2
}
